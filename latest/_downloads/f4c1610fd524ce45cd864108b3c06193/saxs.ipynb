{
  "cells": [
    {
      "cell_type": "markdown",
      "metadata": {},
      "source": [
        "\n# Small-angle X-ray scattering\n\nSmall-angle X-ray scattering (SAXS) can be extracted using Scatterkit. To follow this how-to\nguide, you should download the :download:`topology <water.tpr>` and the\n:download:`trajectory <water.trr>` files of the water system.\n\nFor more details on the theory see `saxs-explanations`.\n\nFirst, we import Matplotlib, MDAnalysis, NumPy and Scatterkit:\n"
      ]
    },
    {
      "cell_type": "code",
      "execution_count": null,
      "metadata": {
        "collapsed": false
      },
      "outputs": [],
      "source": [
        "import matplotlib.pyplot as plt\nimport MDAnalysis as mda\nfrom MDAnalysis.analysis.rdf import InterRDF\n\nfrom scatterkit.lib.math import atomic_form_factor, rdf_structure_factor\nimport scatterkit"
      ]
    },
    {
      "cell_type": "markdown",
      "metadata": {},
      "source": [
        "The `water` system consists of 510 water molecules in the liquid state. The\nmolecules are placed in a periodic cubic cell with an extent of $25 \\times 25\n\\times 25\\,\\textrm{\u00c5}^3$.\n\n## Load Simulation Data\n\nCreate a :class:`MDAnalysis.core.universe.Universe` and define a group containing only\nthe oxygen atoms and a group containing only the hydrogen atoms:\n\n"
      ]
    },
    {
      "cell_type": "code",
      "execution_count": null,
      "metadata": {
        "collapsed": false
      },
      "outputs": [],
      "source": [
        "u = mda.Universe(\"water.tpr\", \"water.trr\")\n\ngroup_O = u.select_atoms(\"type O*\")\ngroup_H = u.select_atoms(\"type H*\")"
      ]
    },
    {
      "cell_type": "markdown",
      "metadata": {},
      "source": [
        "## Extract small angle x-ray scattering (SAXS) intensities\n\nLet us use the :class:`scatterkit.Saxs` class of Scatterkit and apply it to all atoms in the\nsystem:\n\n"
      ]
    },
    {
      "cell_type": "code",
      "execution_count": null,
      "metadata": {
        "collapsed": false
      },
      "outputs": [],
      "source": [
        "saxs = scatterkit.Saxs(u.atoms).run(stop=30)"
      ]
    },
    {
      "cell_type": "markdown",
      "metadata": {},
      "source": [
        ".. Note::\n  SAXS computations are extensive calculations. Here, to get an overview of the\n  scattering intensities, we reduce the number of frames to be analyzed from ``101``\n  to ``30``, by adding the ``stop = 30`` parameter to the ``run`` method. Due to the\n  small number of analyzed frames, the scattering intensities shown in this tutorial\n  should not be used to draw any conclusions from the data.\n\nExtract the scattering vectors and the averaged structure factor and SAXS scattering\nintensities from the ``results`` attribute:\n\n"
      ]
    },
    {
      "cell_type": "code",
      "execution_count": null,
      "metadata": {
        "collapsed": false
      },
      "outputs": [],
      "source": [
        "scattering_values = saxs.results.scattering_vectors\nstructure_factors = saxs.results.structure_factors\nscattering_intensities = saxs.results.scattering_intensities"
      ]
    },
    {
      "cell_type": "markdown",
      "metadata": {},
      "source": [
        "The scattering intensities (and structure factors) are given as a 1D array, let us\nlook at the 10 first lines:\n\n"
      ]
    },
    {
      "cell_type": "code",
      "execution_count": null,
      "metadata": {
        "collapsed": false
      },
      "outputs": [],
      "source": [
        "print(scattering_intensities[:10])"
      ]
    },
    {
      "cell_type": "markdown",
      "metadata": {},
      "source": [
        "By default, the binwidth in the recipocal $(q)$ space is $0.1 \u00c5^{-1}$.\n\nWe now plot the structure factor as well a the scattering intensities together.\n\n"
      ]
    },
    {
      "cell_type": "code",
      "execution_count": null,
      "metadata": {
        "collapsed": false
      },
      "outputs": [],
      "source": [
        "fig1, ax1 = plt.subplots(nrows=2, sharex=True, layout=\"constrained\")\n\nax1[0].plot(scattering_values, structure_factors)\nax1[1].plot(scattering_values, scattering_intensities)\n\nax1[-1].set_xlabel(r\"q (1/\u00c5)\")\n\nax1[0].set_ylabel(r\"structure factor $S(q)$\")\nax1[1].set_ylabel(r\"scattering intensities $I(q)$\")\nfig1.align_labels()\n\nfig1.show()"
      ]
    },
    {
      "cell_type": "markdown",
      "metadata": {},
      "source": [
        "The structure factor $S(q)$ and the scattering intensities $I(q)$ are\nrelated via\n\n\\begin{align}I(q) = [f(q)]^2 S(q)\\end{align}\n\nwhere $f(q)$ are the atomic form factors. We will investigate the relation below\nin more details.\n\n## Computing oxygen and hydrogen contributions\n\nAn advantage of full atomistic simulations is their ability to investigate atomic\ncontributions individually. Let us calculate both oxygen and hydrogen contributions,\nrespectively:\n\n"
      ]
    },
    {
      "cell_type": "code",
      "execution_count": null,
      "metadata": {
        "collapsed": false
      },
      "outputs": [],
      "source": [
        "saxs_O = scatterkit.Saxs(group_O).run(stop=30)\nsaxs_H = scatterkit.Saxs(group_H).run(stop=30)"
      ]
    },
    {
      "cell_type": "markdown",
      "metadata": {},
      "source": [
        "Let us plot the results for the structure factor, the squared atomic form factor as\nwell scattering intensities together. For computing the atomic form factor we will use\n:func:`scatterkit.lib.math.atomic_form_factor`. Note that for the ``structure_factors``\nand the ``scattering_intensities` we access the results directly from the ``results``\nattribute without storing them in individual variables as before:\n\n"
      ]
    },
    {
      "cell_type": "code",
      "execution_count": null,
      "metadata": {
        "collapsed": false
      },
      "outputs": [],
      "source": [
        "fig2, ax2 = plt.subplots(nrows=3, sharex=True, layout=\"constrained\")\n\n# structure factors\nax2[0].plot(\n    saxs_O.results.scattering_vectors,\n    saxs_O.results.structure_factors,\n    label=\"Oxygen\",\n)\nax2[0].plot(\n    saxs_H.results.scattering_vectors,\n    saxs_H.results.structure_factors,\n    label=\"Hydrogen\",\n)\n\n# atomic form factors\nax2[1].plot(\n    saxs_O.results.scattering_vectors,\n    atomic_form_factor(saxs_O.results.scattering_vectors, \"O\") ** 2,\n)\nax2[1].plot(\n    saxs_H.results.scattering_vectors,\n    atomic_form_factor(saxs_H.results.scattering_vectors, \"H\") ** 2,\n)\n\n# scattering intensities\nax2[2].plot(saxs_O.results.scattering_vectors, saxs_O.results.scattering_intensities)\nax2[2].plot(saxs_H.results.scattering_vectors, saxs_H.results.scattering_intensities)\n\nax2[-1].set_xlabel(r\"q (1/\u00c5)\")\nax2[0].set_ylabel(r\"$S(q)$\")\nax2[1].set_ylabel(r\"$f(q)^2$\")\nax2[2].set_ylabel(r\"$I(q)$\")\n\nax2[0].legend()\nfig2.align_labels()\n\nfig2.show()"
      ]
    },
    {
      "cell_type": "markdown",
      "metadata": {},
      "source": [
        "The figure above nicely shows that multiplying the structure factor $S(q)$ and\nthe squared atomic form factor $f(q)^2$ results in the scattering intensity\n$I(q)$.\n\nThe atomic form factors are monotonically decaying as a function of $q$ and\ntheir value for $q=0$ is the same number of electrons for the element. Also, it\nis worth to notice that due to small atomic form factor of hydrogen there is basically\nno contribution of the hydrogen atoms to the total scattering intensity of water.\n\n## Connection of the structure factor to the radial distribution function\n\nAs in details explained in `saxs-explanations`, the structure factor can be\nrelated to the radial distribution function (RDF). We denote this structure factor by\n$S^\\mathrm{FT}(q)$ since it is based on Fourier transforming the RDF. The\nstructure factor which can be directly obtained from the trajectory is denoted by\n$S^\\mathrm{D}(q)$.\n\nTo relate these two we first calculate the oxygen-oxygen RDF up to half the box length\nusing :class:`MDAnalysis.analysis.rdf.InterRDF` and save the result in\nvariables for an easier access.\n\n"
      ]
    },
    {
      "cell_type": "code",
      "execution_count": null,
      "metadata": {
        "collapsed": false
      },
      "outputs": [],
      "source": [
        "box_lengh = u.dimensions[0]\n\noo_inter_rdf = InterRDF(\n    g1=group_O, g2=group_O, range=(0, box_lengh / 2), exclude_same=\"residue\"\n).run()\n\nr_oo = oo_inter_rdf.results.bins\nrdf_oo = oo_inter_rdf.results.rdf"
      ]
    },
    {
      "cell_type": "markdown",
      "metadata": {},
      "source": [
        "We use ``exclude_same=\"residue\"`` to exclude atomic self contributions resulting in a\nlarge peak at 0. Next, we convert the RDF into a structure factor using\n:func:`scatterkit.lib.math.rdf_structure_factor` and the number density of the\noxygens.\n\n"
      ]
    },
    {
      "cell_type": "code",
      "execution_count": null,
      "metadata": {
        "collapsed": false
      },
      "outputs": [],
      "source": [
        "density = group_O.n_atoms / u.trajectory.ts.volume\n\nq_rdf, struct_factor_rdf = rdf_structure_factor(rdf=rdf_oo, r=r_oo, density=density)"
      ]
    },
    {
      "cell_type": "markdown",
      "metadata": {},
      "source": [
        "Now we can plot everything together and find that the direct evaluation from above and\nthe transformed RDF give the same structure factor.\n\n"
      ]
    },
    {
      "cell_type": "code",
      "execution_count": null,
      "metadata": {
        "collapsed": false
      },
      "outputs": [],
      "source": [
        "fig3, ax3 = plt.subplots(2, layout=\"constrained\")\n\nax3[0].axhline(1, c=\"gray\", ls=\"dashed\")\nax3[0].plot(r_oo, rdf_oo, label=\"Oxygen-Oxygen\")\nax3[0].set_xlabel(\"r (\u00c5)\")\nax3[0].set_ylabel(\"radial distribution function\")\nax3[0].set_xlim(0, 10)\n\nax3[1].plot(q_rdf, struct_factor_rdf, label=r\"$S^\\mathrm{FT}$\")\nax3[1].plot(\n    saxs_O.results.scattering_vectors,\n    saxs_O.results.structure_factors,\n    label=r\"$S^\\mathrm{D}$\",\n    ls=\"dashed\",\n)\n\nax3[1].set_xlabel(\"q (1/\u00c5)\")\nax3[1].set_ylabel(\"structure factor $S(q)$\")\nax3[1].set_xlim(0, 7)\n\nax3[1].legend()\nax3[0].legend()\nfig3.align_labels()\n\nfig3.show()"
      ]
    }
  ],
  "metadata": {
    "kernelspec": {
      "display_name": "Python 3",
      "language": "python",
      "name": "python3"
    },
    "language_info": {
      "codemirror_mode": {
        "name": "ipython",
        "version": 3
      },
      "file_extension": ".py",
      "mimetype": "text/x-python",
      "name": "python",
      "nbconvert_exporter": "python",
      "pygments_lexer": "ipython3",
      "version": "3.13.5"
    }
  },
  "nbformat": 4,
  "nbformat_minor": 0
}